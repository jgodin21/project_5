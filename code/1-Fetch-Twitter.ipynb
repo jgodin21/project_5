{
 "cells": [
  {
   "cell_type": "markdown",
   "metadata": {},
   "source": [
    "**TODO:**\n",
    "\n",
    "* Add API logins to `keys` file"
   ]
  },
  {
   "cell_type": "markdown",
   "metadata": {},
   "source": [
    "# Imports"
   ]
  },
  {
   "cell_type": "code",
   "execution_count": 3,
   "metadata": {},
   "outputs": [],
   "source": [
    "# Data-handling imports\n",
    "import pandas as pd\n",
    "import tweepy\n",
    "\n",
    "# API keys\n",
    "with open (\"keys\", \"r\") as file:\n",
    "    consumer_key, \\\n",
    "    consumer_secret, \\\n",
    "    access_token, \\\n",
    "    access_token_secret \\\n",
    "    = file.read().split('\\n')\n",
    "    \n",
    "# Options\n",
    "start_date = \"2020-03-01\"\n",
    "end_date = \"2020-05-09\"\n",
    "seed = 5993"
   ]
  },
  {
   "cell_type": "markdown",
   "metadata": {},
   "source": [
    "# Log in to Twitter"
   ]
  },
  {
   "cell_type": "code",
   "execution_count": null,
   "metadata": {},
   "outputs": [],
   "source": [
    "auth = tweepy.OAuthHandler(consumer_key, consumer_secret)\n",
    "auth.set_access_token(access_token, access_token_secret)\n",
    "api = tweepy.API(auth)"
   ]
  },
  {
   "cell_type": "markdown",
   "metadata": {},
   "source": [
    "# Parse data"
   ]
  },
  {
   "cell_type": "code",
   "execution_count": null,
   "metadata": {},
   "outputs": [],
   "source": [
    "# Read & write each data frame separately because it is a LOT of data\n",
    "for pd_date in pd.date_range(start_date, end_date):\n",
    "    date = str(date.date())\n",
    "    \n",
    "    # \"clean\" = doesn't incude retweets\n",
    "    df = pd.read_csv(\"https://github.com/thepanacealab/covid19_twitter/raw/master/dailies/{date}/{date}_clean-dataset.tsv.gz\", sep=\"\\t\")\n",
    "    df_hydrated = []\n",
    "\n",
    "    # Look up tweet text & location\n",
    "    tweets = [(tweet[\"text\"], status[\"user\"][\"location\"])\n",
    "              for tweet in api.statuses_lookup(df[\"tweed_id\"])]\n",
    "\n",
    "    # Parse dates/times\n",
    "    times = [pd.datetime(\n",
    "        *map(int, date.split(\"-\")),\n",
    "        *map(int, time.split(\":\")))\n",
    "        for _, (date, time) in df[[\"date\", \"time\"]].iterrows()]\n",
    "    \n",
    "    # Put together\n",
    "    df_hydrated = pd.DataFrame(\n",
    "        data = tweets,\n",
    "        columns = [\"text\", \"location\"]\n",
    "        index = df[\"tweed_id\"])\n",
    "    df_hydrated[\"time\"] = times\n",
    "    \n",
    "    # Write out\n",
    "    df_hydrated.to_csv(f\"../data/Tweets-{date}.csv\", index=False)\n",
    "\n",
    "    # Delete these to save memory\n",
    "    del df, df_hydrated"
   ]
  },
  {
   "cell_type": "markdown",
   "metadata": {},
   "source": [
    "# References\n",
    "\n",
    "Banda, J. M., Tekumalla, R., Wang, G., Yu, J., Liu, T., Ding, Y., and Chowell, G. May 2020. A large-scale COVID-19 Twitter chatter dataset for open scientific research—an international collaboration, arXiv:[1506.04967](http://arxiv.org/abs/1506.04967), doi:[10.5281/zenodo.3819464](http://doi.org/10.5281/zenodo.3819464)"
   ]
  }
 ],
 "metadata": {
  "kernelspec": {
   "display_name": "Python 3",
   "language": "python",
   "name": "python3"
  },
  "language_info": {
   "codemirror_mode": {
    "name": "ipython",
    "version": 3
   },
   "file_extension": ".py",
   "mimetype": "text/x-python",
   "name": "python",
   "nbconvert_exporter": "python",
   "pygments_lexer": "ipython3",
   "version": "3.6.9"
  },
  "toc": {
   "base_numbering": 1,
   "nav_menu": {},
   "number_sections": true,
   "sideBar": true,
   "skip_h1_title": false,
   "title_cell": "Table of Contents",
   "title_sidebar": "Contents",
   "toc_cell": false,
   "toc_position": {},
   "toc_section_display": true,
   "toc_window_display": false
  },
  "varInspector": {
   "cols": {
    "lenName": 16,
    "lenType": 16,
    "lenVar": 40
   },
   "kernels_config": {
    "python": {
     "delete_cmd_postfix": "",
     "delete_cmd_prefix": "del ",
     "library": "var_list.py",
     "varRefreshCmd": "print(var_dic_list())"
    },
    "r": {
     "delete_cmd_postfix": ") ",
     "delete_cmd_prefix": "rm(",
     "library": "var_list.r",
     "varRefreshCmd": "cat(var_dic_list()) "
    }
   },
   "types_to_exclude": [
    "module",
    "function",
    "builtin_function_or_method",
    "instance",
    "_Feature"
   ],
   "window_display": false
  }
 },
 "nbformat": 4,
 "nbformat_minor": 2
}
