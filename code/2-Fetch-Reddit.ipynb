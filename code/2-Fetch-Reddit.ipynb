{
 "cells": [
  {
   "cell_type": "markdown",
   "metadata": {},
   "source": [
    "# Reddit get-comment tool, covid-19 sentiment analysis"
   ]
  },
  {
   "cell_type": "markdown",
   "metadata": {},
   "source": [
    "## Set-up"
   ]
  },
  {
   "cell_type": "code",
   "execution_count": 1,
   "metadata": {},
   "outputs": [],
   "source": [
    "import pandas as pd\n",
    "import numpy as np\n",
    "import matplotlib.pyplot as plot\n",
    "import datetime as dt\n",
    "import time\n",
    "import requests\n",
    "from bs4 import BeautifulSoup"
   ]
  },
  {
   "cell_type": "code",
   "execution_count": 2,
   "metadata": {},
   "outputs": [],
   "source": [
    "sub_url = 'https://api.pushshift.io/reddit/search/submission'\n",
    "comment_url = 'https://api.pushshift.io/reddit/search/comment'"
   ]
  },
  {
   "cell_type": "markdown",
   "metadata": {},
   "source": [
    "#### Define subreddits, fields gathered"
   ]
  },
  {
   "cell_type": "code",
   "execution_count": 3,
   "metadata": {},
   "outputs": [],
   "source": [
    "# Play with different localities here\n",
    "subreddits = ['nyc', 'houston']"
   ]
  },
  {
   "cell_type": "code",
   "execution_count": 4,
   "metadata": {},
   "outputs": [],
   "source": [
    "submission_fields = ['id','title', 'created_utc','num_comments','subreddit']\n",
    "comment_fields = ['link_id','body','created_utc', 'subreddit', 'score']"
   ]
  },
  {
   "cell_type": "markdown",
   "metadata": {},
   "source": [
    "#### Set key terms; Name data"
   ]
  },
  {
   "cell_type": "code",
   "execution_count": 5,
   "metadata": {},
   "outputs": [],
   "source": [
    "# Batch name (suffix to add to all saved data)\n",
    "prefix = '2020_general'"
   ]
  },
  {
   "cell_type": "code",
   "execution_count": 6,
   "metadata": {},
   "outputs": [],
   "source": [
    "# Search terms\n",
    "keywords = 'covid|quarantine|pandemic|coronavirus'"
   ]
  },
  {
   "cell_type": "markdown",
   "metadata": {},
   "source": [
    "#### Set Time"
   ]
  },
  {
   "cell_type": "code",
   "execution_count": 7,
   "metadata": {},
   "outputs": [
    {
     "data": {
      "text/plain": [
       "1589083200"
      ]
     },
     "execution_count": 7,
     "metadata": {},
     "output_type": "execute_result"
    }
   ],
   "source": [
    "int(dt.datetime(2020,5,10,0,0,0).timestamp())"
   ]
  },
  {
   "cell_type": "code",
   "execution_count": 8,
   "metadata": {},
   "outputs": [],
   "source": [
    "# time flags (search starts at t2 and goes back by 'span_days' find t1)\n",
    "# 86400 utc = 1 day\n",
    "\n",
    "# Start Time\n",
    "# t2 = round(time.time()) # Now\n",
    "# t2 = round((dt.datetime.now() - dt.timedelta(days=365)).timestamp()) #5/10/2019, 12 am\n",
    "t2 = int(dt.datetime(2020,5,10,0,0,0).timestamp())\n",
    "# Search Span\n",
    "span_days = 80\n",
    "\n",
    "t1 = str(int(t2) - span_days*86400)"
   ]
  },
  {
   "cell_type": "markdown",
   "metadata": {},
   "source": [
    "## Submissions"
   ]
  },
  {
   "cell_type": "code",
   "execution_count": 9,
   "metadata": {},
   "outputs": [],
   "source": [
    "# get submissions\n",
    "submissions = pd.DataFrame(columns = submission_fields)\n",
    "df_list = []\n",
    "\n",
    "for subreddit in subreddits:\n",
    "    start_time = t2\n",
    "    # start_time = round(time.time())\n",
    "    res = requests.get(\n",
    "        sub_url,\n",
    "        params={\n",
    "            'subreddit' : subreddit,\n",
    "            # 'q' : keywords,\n",
    "            'fields': submission_fields,\n",
    "            'size' : 400,\n",
    "            'sort_type' : 'num_comments',\n",
    "            'sort' : 'desc',\n",
    "            'before': start_time,  \n",
    "            'after': t1,\n",
    "        })\n",
    "    # Make sure we got a 2xx response\n",
    "    res.raise_for_status()\n",
    "\n",
    "    df = pd.DataFrame(res.json()['data'])\n",
    "    \n",
    "    # Filter out non-commented; could also set 'sort_type' parameter to get most commented\n",
    "    df = df[df['num_comments'] >0]\n",
    "    \n",
    "    df_list.append(df)\n",
    "\n",
    "start_time = df.created_utc.min()\n",
    "submissions = pd.concat(df_list, axis=0)\n",
    "submissions['date'] = [dt.date.fromtimestamp(x).isoformat() for x in submissions['created_utc']]"
   ]
  },
  {
   "cell_type": "markdown",
   "metadata": {},
   "source": [
    "## Comments"
   ]
  },
  {
   "cell_type": "code",
   "execution_count": 10,
   "metadata": {
    "scrolled": true
   },
   "outputs": [],
   "source": [
    "# Generate id dictionary for cross-referencing submissions with comments\n",
    "link_ids = {sub: submissions[submissions[\"subreddit\"] == sub][\"id\"] for sub in subreddits}"
   ]
  },
  {
   "cell_type": "code",
   "execution_count": 11,
   "metadata": {
    "scrolled": true
   },
   "outputs": [
    {
     "name": "stdout",
     "output_type": "stream",
     "text": [
      "Fetched 1000 comments from r/nyc since 2020-05-10T00:00:00\n",
      "Fetched 2000 comments from r/nyc since 2020-05-09T12:30:54\n",
      "Fetched 3000 comments from r/nyc since 2020-05-08T18:49:44\n",
      "Fetched 4000 comments from r/nyc since 2020-05-08T13:09:04\n",
      "Fetched 5000 comments from r/nyc since 2020-05-08T08:20:29\n",
      "Fetched 6000 comments from r/nyc since 2020-05-07T16:59:32\n",
      "Fetched 7000 comments from r/nyc since 2020-05-07T08:51:33\n",
      "Fetched 8000 comments from r/nyc since 2020-05-06T16:15:49\n",
      "Fetched 9000 comments from r/nyc since 2020-05-06T09:51:11\n",
      "Fetched 10000 comments from r/nyc since 2020-05-05T16:47:05\n",
      "Fetched 11000 comments from r/nyc since 2020-05-05T11:53:26\n",
      "Fetched 12000 comments from r/nyc since 2020-05-04T19:49:35\n",
      "Fetched 13000 comments from r/nyc since 2020-05-04T09:44:22\n",
      "Fetched 14000 comments from r/nyc since 2020-05-03T13:03:46\n",
      "Fetched 15000 comments from r/nyc since 2020-05-02T21:29:31\n",
      "Fetched 16000 comments from r/nyc since 2020-05-02T13:09:30\n",
      "Fetched 17000 comments from r/nyc since 2020-05-01T20:57:43\n",
      "Fetched 18000 comments from r/nyc since 2020-05-01T14:35:56\n",
      "Fetched 19000 comments from r/nyc since 2020-05-01T10:44:18\n",
      "Fetched 20000 comments from r/nyc since 2020-04-30T19:53:31\n",
      "Fetched 21000 comments from r/nyc since 2020-04-30T12:56:52\n",
      "Fetched 22000 comments from r/nyc since 2020-04-29T20:50:40\n",
      "Fetched 23000 comments from r/nyc since 2020-04-29T11:34:49\n",
      "Fetched 24000 comments from r/nyc since 2020-04-28T15:16:00\n",
      "Fetched 25000 comments from r/nyc since 2020-04-28T09:25:25\n",
      "Fetched 26000 comments from r/nyc since 2020-04-27T17:46:59\n",
      "Fetched 27000 comments from r/nyc since 2020-04-27T11:22:07\n",
      "Fetched 28000 comments from r/nyc since 2020-04-26T17:30:11\n",
      "Fetched 29000 comments from r/nyc since 2020-04-26T10:42:29\n",
      "Fetched 30000 comments from r/nyc since 2020-04-25T12:18:59\n",
      "Fetched 31000 comments from r/nyc since 2020-04-24T13:11:07\n",
      "Fetched 32000 comments from r/nyc since 2020-04-23T17:03:15\n",
      "Fetched 33000 comments from r/nyc since 2020-04-23T12:05:32\n",
      "Fetched 34000 comments from r/nyc since 2020-04-22T21:47:28\n",
      "Fetched 35000 comments from r/nyc since 2020-04-22T15:14:57\n",
      "Fetched 36000 comments from r/nyc since 2020-04-22T01:02:36\n",
      "Fetched 37000 comments from r/nyc since 2020-04-21T14:10:05\n",
      "Fetched 38000 comments from r/nyc since 2020-04-20T20:58:00\n",
      "Fetched 39000 comments from r/nyc since 2020-04-20T10:40:58\n",
      "Fetched 40000 comments from r/nyc since 2020-04-19T15:08:14\n",
      "Fetched 41000 comments from r/nyc since 2020-04-19T01:22:32\n",
      "Fetched 42000 comments from r/nyc since 2020-04-18T13:07:20\n",
      "Fetched 43000 comments from r/nyc since 2020-04-18T00:13:13\n",
      "Fetched 44000 comments from r/nyc since 2020-04-17T15:58:50\n",
      "Fetched 45000 comments from r/nyc since 2020-04-17T08:44:30\n",
      "Fetched 46000 comments from r/nyc since 2020-04-16T19:33:11\n",
      "Fetched 47000 comments from r/nyc since 2020-04-16T14:20:50\n",
      "Fetched 48000 comments from r/nyc since 2020-04-16T09:26:33\n",
      "Fetched 49000 comments from r/nyc since 2020-04-15T16:39:46\n",
      "Fetched 50000 comments from r/nyc since 2020-04-15T08:21:58\n",
      "Fetched 51000 comments from r/nyc since 2020-04-14T15:07:09\n",
      "Fetched 52000 comments from r/nyc since 2020-04-13T19:50:25\n",
      "Fetched 53000 comments from r/nyc since 2020-04-13T12:04:49\n",
      "Fetched 54000 comments from r/nyc since 2020-04-12T20:05:08\n",
      "Fetched 55000 comments from r/nyc since 2020-04-12T09:44:50\n",
      "Fetched 56000 comments from r/nyc since 2020-04-11T17:06:28\n",
      "Fetched 57000 comments from r/nyc since 2020-04-11T08:06:45\n",
      "Fetched 58000 comments from r/nyc since 2020-04-10T15:06:35\n",
      "Fetched 59000 comments from r/nyc since 2020-04-10T00:14:57\n",
      "Fetched 60000 comments from r/nyc since 2020-04-09T10:51:31\n",
      "Fetched 61000 comments from r/nyc since 2020-04-08T17:50:50\n",
      "Fetched 62000 comments from r/nyc since 2020-04-08T03:54:34\n",
      "Fetched 63000 comments from r/nyc since 2020-04-07T13:28:47\n",
      "Fetched 64000 comments from r/nyc since 2020-04-07T04:51:30\n",
      "Fetched 65000 comments from r/nyc since 2020-04-06T18:15:21\n",
      "Fetched 66000 comments from r/nyc since 2020-04-06T13:33:32\n",
      "Fetched 67000 comments from r/nyc since 2020-04-06T01:22:15\n",
      "Fetched 68000 comments from r/nyc since 2020-04-05T15:27:53\n",
      "Fetched 69000 comments from r/nyc since 2020-04-05T00:45:04\n",
      "Fetched 70000 comments from r/nyc since 2020-04-04T14:20:57\n",
      "Fetched 71000 comments from r/nyc since 2020-04-04T08:44:36\n",
      "Fetched 72000 comments from r/nyc since 2020-04-03T15:19:58\n",
      "Fetched 73000 comments from r/nyc since 2020-04-03T01:09:40\n",
      "Fetched 74000 comments from r/nyc since 2020-04-02T14:24:36\n",
      "Fetched 75000 comments from r/nyc since 2020-04-02T08:36:22\n",
      "Fetched 76000 comments from r/nyc since 2020-04-01T16:20:21\n",
      "Fetched 77000 comments from r/nyc since 2020-04-01T12:41:38\n",
      "Fetched 78000 comments from r/nyc since 2020-04-01T01:31:12\n",
      "Fetched 79000 comments from r/nyc since 2020-03-31T17:36:59\n",
      "Fetched 80000 comments from r/nyc since 2020-03-31T11:27:47\n",
      "Fetched 81000 comments from r/nyc since 2020-03-30T21:19:18\n",
      "Fetched 82000 comments from r/nyc since 2020-03-30T15:45:02\n",
      "Fetched 83000 comments from r/nyc since 2020-03-30T10:21:39\n",
      "Fetched 84000 comments from r/nyc since 2020-03-29T22:58:04\n",
      "Fetched 85000 comments from r/nyc since 2020-03-29T15:32:06\n",
      "Fetched 86000 comments from r/nyc since 2020-03-29T10:05:34\n",
      "Fetched 87000 comments from r/nyc since 2020-03-28T18:43:22\n",
      "Fetched 88000 comments from r/nyc since 2020-03-28T13:08:12\n",
      "Fetched 89000 comments from r/nyc since 2020-03-28T03:02:22\n",
      "Fetched 90000 comments from r/nyc since 2020-03-27T16:33:16\n",
      "Fetched 91000 comments from r/nyc since 2020-03-27T11:05:33\n",
      "Fetched 92000 comments from r/nyc since 2020-03-27T00:46:22\n",
      "Fetched 93000 comments from r/nyc since 2020-03-26T15:46:20\n",
      "Fetched 94000 comments from r/nyc since 2020-03-26T09:39:50\n",
      "Fetched 95000 comments from r/nyc since 2020-03-25T19:05:48\n",
      "Fetched 96000 comments from r/nyc since 2020-03-25T12:09:28\n",
      "Fetched 97000 comments from r/nyc since 2020-03-25T07:49:00\n",
      "Fetched 98000 comments from r/nyc since 2020-03-24T19:13:44\n",
      "Fetched 99000 comments from r/nyc since 2020-03-24T13:37:06\n",
      "Fetched 100000 comments from r/nyc since 2020-03-24T09:01:27\n",
      "Fetched 101000 comments from r/nyc since 2020-03-23T20:47:05\n",
      "Fetched 102000 comments from r/nyc since 2020-03-23T12:30:52\n",
      "Fetched 103000 comments from r/nyc since 2020-03-22T22:20:04\n",
      "Fetched 104000 comments from r/nyc since 2020-03-22T13:03:03\n",
      "Fetched 105000 comments from r/nyc since 2020-03-21T18:17:30\n",
      "Fetched 106000 comments from r/nyc since 2020-03-21T11:47:55\n",
      "Fetched 107000 comments from r/nyc since 2020-03-20T23:21:37\n",
      "Fetched 108000 comments from r/nyc since 2020-03-20T15:07:48\n",
      "Fetched 109000 comments from r/nyc since 2020-03-20T11:37:59\n",
      "Fetched 110000 comments from r/nyc since 2020-03-20T00:34:31\n",
      "Fetched 111000 comments from r/nyc since 2020-03-19T13:41:39\n",
      "Fetched 112000 comments from r/nyc since 2020-03-18T22:29:00\n",
      "Fetched 113000 comments from r/nyc since 2020-03-18T12:17:04\n",
      "Fetched 114000 comments from r/nyc since 2020-03-18T01:08:03\n",
      "Fetched 115000 comments from r/nyc since 2020-03-17T18:07:35\n",
      "Fetched 116000 comments from r/nyc since 2020-03-17T14:39:19\n",
      "Fetched 117000 comments from r/nyc since 2020-03-17T09:57:42\n",
      "Fetched 118000 comments from r/nyc since 2020-03-16T20:08:33\n",
      "Fetched 119000 comments from r/nyc since 2020-03-16T12:45:30\n",
      "Fetched 120000 comments from r/nyc since 2020-03-16T05:18:43\n",
      "Fetched 121000 comments from r/nyc since 2020-03-15T22:31:55\n",
      "Fetched 122000 comments from r/nyc since 2020-03-15T16:23:51\n",
      "Fetched 123000 comments from r/nyc since 2020-03-15T10:04:26\n",
      "Fetched 124000 comments from r/nyc since 2020-03-14T19:22:18\n",
      "Fetched 125000 comments from r/nyc since 2020-03-14T13:47:47\n",
      "Fetched 126000 comments from r/nyc since 2020-03-14T08:31:14\n",
      "Fetched 127000 comments from r/nyc since 2020-03-13T18:19:25\n",
      "Fetched 128000 comments from r/nyc since 2020-03-13T10:38:59\n",
      "Fetched 129000 comments from r/nyc since 2020-03-12T19:49:00\n",
      "Fetched 130000 comments from r/nyc since 2020-03-12T14:28:51\n",
      "Fetched 131000 comments from r/nyc since 2020-03-11T23:29:36\n",
      "Fetched 132000 comments from r/nyc since 2020-03-11T09:54:07\n",
      "Fetched 133000 comments from r/nyc since 2020-03-10T18:39:01\n",
      "Fetched 134000 comments from r/nyc since 2020-03-10T06:05:56\n",
      "Fetched 135000 comments from r/nyc since 2020-03-09T09:52:14\n",
      "Fetched 136000 comments from r/nyc since 2020-03-08T15:22:15\n",
      "Fetched 137000 comments from r/nyc since 2020-03-07T16:34:36\n"
     ]
    },
    {
     "name": "stdout",
     "output_type": "stream",
     "text": [
      "Fetched 138000 comments from r/nyc since 2020-03-06T18:40:52\n",
      "Fetched 139000 comments from r/nyc since 2020-03-06T07:51:42\n",
      "Fetched 140000 comments from r/nyc since 2020-03-05T09:43:03\n",
      "Fetched 141000 comments from r/nyc since 2020-03-04T12:10:32\n",
      "Fetched 142000 comments from r/nyc since 2020-03-03T12:21:06\n",
      "Fetched 143000 comments from r/nyc since 2020-03-02T09:09:56\n",
      "Fetched 144000 comments from r/nyc since 2020-03-01T19:20:31\n",
      "Fetched 145000 comments from r/nyc since 2020-02-29T10:03:41\n",
      "Fetched 146000 comments from r/nyc since 2020-02-28T14:27:29\n",
      "Fetched 147000 comments from r/nyc since 2020-02-27T12:47:21\n",
      "Fetched 148000 comments from r/nyc since 2020-02-26T12:36:12\n",
      "Fetched 149000 comments from r/nyc since 2020-02-23T17:26:52\n",
      "Fetched 149525 comments from r/nyc since 2020-02-21T12:24:47\n",
      "Fetched 1000 comments from r/houston since 2020-05-10T00:00:00\n",
      "Fetched 2000 comments from r/houston since 2020-05-08T10:12:25\n",
      "Fetched 3000 comments from r/houston since 2020-05-07T08:39:03\n",
      "Fetched 4000 comments from r/houston since 2020-05-06T13:12:10\n",
      "Fetched 5000 comments from r/houston since 2020-05-05T12:43:58\n",
      "Fetched 6000 comments from r/houston since 2020-05-04T13:11:56\n",
      "Fetched 7000 comments from r/houston since 2020-05-03T11:38:28\n",
      "Fetched 8000 comments from r/houston since 2020-05-02T17:10:41\n",
      "Fetched 9000 comments from r/houston since 2020-05-01T23:39:50\n",
      "Fetched 10000 comments from r/houston since 2020-05-01T09:59:49\n",
      "Fetched 11000 comments from r/houston since 2020-04-30T08:09:25\n",
      "Fetched 12000 comments from r/houston since 2020-04-29T12:00:44\n",
      "Fetched 13000 comments from r/houston since 2020-04-28T18:43:15\n",
      "Fetched 14000 comments from r/houston since 2020-04-28T11:22:12\n",
      "Fetched 15000 comments from r/houston since 2020-04-27T20:16:47\n",
      "Fetched 16000 comments from r/houston since 2020-04-27T16:31:42\n",
      "Fetched 17000 comments from r/houston since 2020-04-25T22:35:10\n",
      "Fetched 18000 comments from r/houston since 2020-04-24T16:52:50\n",
      "Fetched 19000 comments from r/houston since 2020-04-23T20:52:08\n",
      "Fetched 20000 comments from r/houston since 2020-04-23T12:42:28\n",
      "Fetched 21000 comments from r/houston since 2020-04-23T04:57:00\n",
      "Fetched 22000 comments from r/houston since 2020-04-22T19:14:37\n",
      "Fetched 23000 comments from r/houston since 2020-04-22T14:06:04\n",
      "Fetched 24000 comments from r/houston since 2020-04-21T20:11:37\n",
      "Fetched 25000 comments from r/houston since 2020-04-21T03:05:22\n",
      "Fetched 26000 comments from r/houston since 2020-04-20T11:22:37\n",
      "Fetched 27000 comments from r/houston since 2020-04-18T16:41:00\n",
      "Fetched 28000 comments from r/houston since 2020-04-17T16:09:25\n",
      "Fetched 29000 comments from r/houston since 2020-04-16T16:48:53\n",
      "Fetched 30000 comments from r/houston since 2020-04-15T11:35:16\n",
      "Fetched 31000 comments from r/houston since 2020-04-13T20:25:57\n",
      "Fetched 32000 comments from r/houston since 2020-04-11T22:13:10\n",
      "Fetched 33000 comments from r/houston since 2020-04-11T11:01:52\n",
      "Fetched 34000 comments from r/houston since 2020-04-10T12:45:26\n",
      "Fetched 35000 comments from r/houston since 2020-04-09T12:27:24\n",
      "Fetched 36000 comments from r/houston since 2020-04-08T16:52:58\n",
      "Fetched 37000 comments from r/houston since 2020-04-07T12:41:06\n",
      "Fetched 38000 comments from r/houston since 2020-04-05T14:13:03\n",
      "Fetched 39000 comments from r/houston since 2020-04-03T14:54:15\n",
      "Fetched 40000 comments from r/houston since 2020-04-01T20:05:44\n",
      "Fetched 41000 comments from r/houston since 2020-04-01T02:43:01\n",
      "Fetched 42000 comments from r/houston since 2020-03-31T15:17:50\n",
      "Fetched 43000 comments from r/houston since 2020-03-30T14:21:47\n",
      "Fetched 44000 comments from r/houston since 2020-03-29T10:21:42\n",
      "Fetched 45000 comments from r/houston since 2020-03-28T09:13:38\n",
      "Fetched 46000 comments from r/houston since 2020-03-27T11:29:08\n",
      "Fetched 47000 comments from r/houston since 2020-03-26T15:40:37\n",
      "Fetched 48000 comments from r/houston since 2020-03-25T21:43:25\n",
      "Fetched 49000 comments from r/houston since 2020-03-25T10:34:46\n",
      "Fetched 50000 comments from r/houston since 2020-03-24T19:12:08\n",
      "Fetched 51000 comments from r/houston since 2020-03-24T13:42:32\n",
      "Fetched 52000 comments from r/houston since 2020-03-24T09:52:13\n",
      "Fetched 53000 comments from r/houston since 2020-03-23T20:45:21\n",
      "Fetched 54000 comments from r/houston since 2020-03-23T11:36:29\n",
      "Fetched 55000 comments from r/houston since 2020-03-22T14:32:23\n",
      "Fetched 56000 comments from r/houston since 2020-03-21T14:01:23\n",
      "Fetched 57000 comments from r/houston since 2020-03-20T17:28:48\n",
      "Fetched 58000 comments from r/houston since 2020-03-19T21:37:23\n",
      "Fetched 59000 comments from r/houston since 2020-03-19T09:38:10\n",
      "Fetched 60000 comments from r/houston since 2020-03-18T14:28:49\n",
      "Fetched 61000 comments from r/houston since 2020-03-17T19:19:40\n",
      "Fetched 62000 comments from r/houston since 2020-03-17T04:00:20\n",
      "Fetched 63000 comments from r/houston since 2020-03-16T18:47:13\n",
      "Fetched 64000 comments from r/houston since 2020-03-16T08:42:28\n",
      "Fetched 65000 comments from r/houston since 2020-03-15T11:18:39\n",
      "Fetched 66000 comments from r/houston since 2020-03-14T15:08:58\n",
      "Fetched 67000 comments from r/houston since 2020-03-13T20:59:27\n",
      "Fetched 68000 comments from r/houston since 2020-03-13T14:05:14\n",
      "Fetched 69000 comments from r/houston since 2020-03-13T02:25:11\n",
      "Fetched 70000 comments from r/houston since 2020-03-12T17:29:40\n",
      "Fetched 71000 comments from r/houston since 2020-03-12T11:46:05\n",
      "Fetched 72000 comments from r/houston since 2020-03-11T17:24:31\n",
      "Fetched 73000 comments from r/houston since 2020-03-11T13:13:43\n",
      "Fetched 74000 comments from r/houston since 2020-03-10T01:04:19\n",
      "Fetched 75000 comments from r/houston since 2020-03-09T00:48:03\n",
      "Fetched 76000 comments from r/houston since 2020-03-07T23:19:37\n",
      "Fetched 77000 comments from r/houston since 2020-03-06T17:33:33\n",
      "Fetched 78000 comments from r/houston since 2020-03-05T12:51:14\n",
      "Fetched 79000 comments from r/houston since 2020-03-04T14:10:48\n",
      "Fetched 80000 comments from r/houston since 2020-03-03T14:44:12\n",
      "Fetched 81000 comments from r/houston since 2020-03-02T02:56:42\n",
      "Fetched 82000 comments from r/houston since 2020-02-28T11:44:16\n",
      "Fetched 83000 comments from r/houston since 2020-02-26T17:39:09\n",
      "Fetched 84000 comments from r/houston since 2020-02-24T14:13:41\n",
      "Fetched 85000 comments from r/houston since 2020-02-23T13:10:01\n",
      "Fetched 85089 comments from r/houston since 2020-02-20T13:41:38\n"
     ]
    }
   ],
   "source": [
    "# get comments\n",
    "df_list = []\n",
    "\n",
    "for subreddit in subreddits:\n",
    "    start_time = t2\n",
    "    c = 0\n",
    "    while c < submissions[submissions['subreddit'] == subreddit]['num_comments'].sum():\n",
    "        time.sleep(2)\n",
    "        res = requests.get(\n",
    "            comment_url,\n",
    "            params={\n",
    "                'subreddit' : subreddit,\n",
    "                'fields': comment_fields,\n",
    "                'link_id' : (['t3_' + n for n in link_ids[subreddit]]),  #/comment?link_id : /submission?ids\n",
    "                'size' : 1000,\n",
    "                'before' : start_time,\n",
    "            })\n",
    "        # Make sure we got a 2xx response\n",
    "        res.raise_for_status()\n",
    "\n",
    "        # Don't parse data unless we got at least one post\n",
    "        if len(res.json()['data']) == 0:\n",
    "            break\n",
    "        \n",
    "        df = pd.DataFrame(res.json()['data'])\n",
    "\n",
    "        # raise counter by number of rows in df\n",
    "        c += df.shape[0]\n",
    "\n",
    "        print(f\"Fetched {c} comments from r/{subreddit} since {dt.datetime.fromtimestamp(start_time).isoformat()}\")\n",
    "\n",
    "        df_list.append(df)\n",
    "        start_time = df['created_utc'].min()\n",
    "        \n",
    "comments = pd.concat(df_list, axis=0)\n",
    "comments['date'] = [dt.date.fromtimestamp(x).isoformat() for x in comments['created_utc']]"
   ]
  },
  {
   "cell_type": "markdown",
   "metadata": {},
   "source": [
    "## Sample/Save Data"
   ]
  },
  {
   "cell_type": "code",
   "execution_count": 12,
   "metadata": {},
   "outputs": [],
   "source": [
    "# Fewest posts we got from a subreddit\n",
    "smallest = comments['subreddit'].value_counts().min()\n",
    "\n",
    "# Pare every subreddit down to this number by random sampling\n",
    "comments_sampled = pd.concat([\n",
    "        comments[comments['subreddit'] == subreddit].sample(smallest, random_state=101)\n",
    "        for subreddit in subreddits\n",
    "    ])"
   ]
  },
  {
   "cell_type": "code",
   "execution_count": 13,
   "metadata": {},
   "outputs": [
    {
     "data": {
      "text/plain": [
       "houston    85089\n",
       "nyc        85089\n",
       "Name: subreddit, dtype: int64"
      ]
     },
     "execution_count": 13,
     "metadata": {},
     "output_type": "execute_result"
    }
   ],
   "source": [
    "# verify we now have equal classes\n",
    "comments_sampled['subreddit'].value_counts()"
   ]
  },
  {
   "cell_type": "code",
   "execution_count": 14,
   "metadata": {},
   "outputs": [],
   "source": [
    "# Save to local hard drive with prefix\n",
    "today = dt.date.today().isoformat()\n",
    "\n",
    "comments.to_csv(f'../data/{prefix}_reddit-comments_all-{today}.csv.bz2', index=False, compression='bz2')\n",
    "comments_sampled.to_csv(f'../data/{prefix}_reddit-comments_sampled-{today}.csv.bz2', index=False, compression='bz2')\n",
    "submissions.to_csv(f'../data/{prefix}_reddit-submissions-{today}.csv.bz2', index=False, compression='bz2')"
   ]
  }
 ],
 "metadata": {
  "kernelspec": {
   "display_name": "Python 3",
   "language": "python",
   "name": "python3"
  },
  "language_info": {
   "codemirror_mode": {
    "name": "ipython",
    "version": 3
   },
   "file_extension": ".py",
   "mimetype": "text/x-python",
   "name": "python",
   "nbconvert_exporter": "python",
   "pygments_lexer": "ipython3",
   "version": "3.7.6"
  },
  "toc": {
   "base_numbering": 1,
   "nav_menu": {},
   "number_sections": true,
   "sideBar": true,
   "skip_h1_title": false,
   "title_cell": "Table of Contents",
   "title_sidebar": "Contents",
   "toc_cell": false,
   "toc_position": {},
   "toc_section_display": true,
   "toc_window_display": false
  },
  "varInspector": {
   "cols": {
    "lenName": 16,
    "lenType": 16,
    "lenVar": 40
   },
   "kernels_config": {
    "python": {
     "delete_cmd_postfix": "",
     "delete_cmd_prefix": "del ",
     "library": "var_list.py",
     "varRefreshCmd": "print(var_dic_list())"
    },
    "r": {
     "delete_cmd_postfix": ") ",
     "delete_cmd_prefix": "rm(",
     "library": "var_list.r",
     "varRefreshCmd": "cat(var_dic_list()) "
    }
   },
   "types_to_exclude": [
    "module",
    "function",
    "builtin_function_or_method",
    "instance",
    "_Feature"
   ],
   "window_display": false
  }
 },
 "nbformat": 4,
 "nbformat_minor": 4
}
