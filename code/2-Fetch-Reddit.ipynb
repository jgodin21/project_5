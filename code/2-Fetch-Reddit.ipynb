{
 "cells": [
  {
   "cell_type": "markdown",
   "metadata": {},
   "source": [
    "# Reddit get-comment tool, covid-19 sentiment analysis"
   ]
  },
  {
   "cell_type": "markdown",
   "metadata": {},
   "source": [
    "## Set-up"
   ]
  },
  {
   "cell_type": "code",
   "execution_count": 16,
   "metadata": {},
   "outputs": [],
   "source": [
    "import pandas as pd\n",
    "import numpy as np\n",
    "import matplotlib.pyplot as plot\n",
    "import datetime as dt\n",
    "import time\n",
    "import requests\n",
    "from bs4 import BeautifulSoup"
   ]
  },
  {
   "cell_type": "code",
   "execution_count": 17,
   "metadata": {},
   "outputs": [],
   "source": [
    "sub_url = 'https://api.pushshift.io/reddit/search/submission'\n",
    "comment_url = 'https://api.pushshift.io/reddit/search/comment'"
   ]
  },
  {
   "cell_type": "markdown",
   "metadata": {},
   "source": [
    "#### Define subreddits, fields gathered"
   ]
  },
  {
   "cell_type": "code",
   "execution_count": 18,
   "metadata": {},
   "outputs": [],
   "source": [
    "# Play with different localities here\n",
    "subreddits = ['nyc', 'houston']"
   ]
  },
  {
   "cell_type": "code",
   "execution_count": 19,
   "metadata": {},
   "outputs": [],
   "source": [
    "submission_fields = ['id','title', 'created_utc','num_comments','subreddit']\n",
    "comment_fields = ['link_id','body','created_utc', 'subreddit', 'score']"
   ]
  },
  {
   "cell_type": "markdown",
   "metadata": {},
   "source": [
    "#### Set key terms; Name data"
   ]
  },
  {
   "cell_type": "code",
   "execution_count": 20,
   "metadata": {},
   "outputs": [],
   "source": [
    "# Batch name (suffix to add to all saved data)\n",
    "prefix = '2020'"
   ]
  },
  {
   "cell_type": "code",
   "execution_count": 21,
   "metadata": {},
   "outputs": [],
   "source": [
    "# Search terms\n",
    "keywords = 'covid|quarantine|pandemic|coronavirus'"
   ]
  },
  {
   "cell_type": "markdown",
   "metadata": {},
   "source": [
    "#### Set Time"
   ]
  },
  {
   "cell_type": "code",
   "execution_count": 22,
   "metadata": {},
   "outputs": [],
   "source": [
    "# time flags (search starts at t2 and goes back by 'span_days' find t1)\n",
    "# 86400 utc = 1 day\n",
    "\n",
    "# Start Time\n",
    "t2 = round(time.time()) # Now\n",
    "# t2 = '1557446400' #5/10/2019, 12 am\n",
    "\n",
    "# Search Span\n",
    "span_days = 80\n",
    "\n",
    "t1 = str(int(t2) - span_days*86400) "
   ]
  },
  {
   "cell_type": "markdown",
   "metadata": {},
   "source": [
    "## Submissions"
   ]
  },
  {
   "cell_type": "code",
   "execution_count": null,
   "metadata": {},
   "outputs": [],
   "source": [
    "# get submissions\n",
    "submissions = pd.DataFrame(columns = submission_fields)\n",
    "df_list = []\n",
    "\n",
    "for subreddit in subreddits:\n",
    "    # start_time = t2\n",
    "    start_time = round(time.time())\n",
    "    res = requests.get(\n",
    "        sub_url,\n",
    "        params={\n",
    "            'subreddit' : subreddit,\n",
    "            'q' : keywords,\n",
    "            'fields': submission_fields,\n",
    "            'size' : 400,\n",
    "            'sort_type' : 'num_comments',\n",
    "            'sort' : 'desc',\n",
    "            'before': start_time,  \n",
    "            # 'after': t1,\n",
    "        })\n",
    "    # Make sure we got a 2xx response\n",
    "    res.raise_for_status()\n",
    "\n",
    "    df = pd.DataFrame(res.json()['data'])\n",
    "    \n",
    "    # Filter out non-commented; could also set 'sort_type' parameter to get most commented\n",
    "    df = df[df['num_comments'] >0]\n",
    "    \n",
    "    df_list.append(df)\n",
    "\n",
    "start_time = df.created_utc.min()\n",
    "submissions = pd.concat(df_list, axis=0)\n",
    "submissions['date'] = [dt.date.fromtimestamp(x).isoformat() for x in submissions['created_utc']]"
   ]
  },
  {
   "cell_type": "markdown",
   "metadata": {},
   "source": [
    "## Comments"
   ]
  },
  {
   "cell_type": "code",
   "execution_count": 36,
   "metadata": {
    "scrolled": true
   },
   "outputs": [],
   "source": [
    "# Generate id dictionary for cross-referencing submissions with comments\n",
    "link_ids = {sub: submissions[submissions[\"subreddit\"] == sub][\"id\"] for sub in subreddits}"
   ]
  },
  {
   "cell_type": "code",
   "execution_count": 38,
   "metadata": {
    "scrolled": false
   },
   "outputs": [
    {
     "name": "stdout",
     "output_type": "stream",
     "text": [
      "Fetched 1000 comments from r/nyc\n",
      "Fetched 2000 comments from r/nyc\n",
      "Fetched 3000 comments from r/nyc\n",
      "Fetched 4000 comments from r/nyc\n",
      "Fetched 5000 comments from r/nyc\n",
      "Fetched 6000 comments from r/nyc\n",
      "Fetched 7000 comments from r/nyc\n",
      "Fetched 8000 comments from r/nyc\n",
      "Fetched 9000 comments from r/nyc\n",
      "Fetched 10000 comments from r/nyc\n",
      "Fetched 11000 comments from r/nyc\n",
      "Fetched 12000 comments from r/nyc\n",
      "Fetched 13000 comments from r/nyc\n",
      "Fetched 14000 comments from r/nyc\n",
      "Fetched 15000 comments from r/nyc\n",
      "Fetched 16000 comments from r/nyc\n",
      "Fetched 17000 comments from r/nyc\n",
      "Fetched 18000 comments from r/nyc\n",
      "Fetched 19000 comments from r/nyc\n",
      "Fetched 20000 comments from r/nyc\n",
      "Fetched 21000 comments from r/nyc\n",
      "Fetched 22000 comments from r/nyc\n",
      "Fetched 23000 comments from r/nyc\n",
      "Fetched 24000 comments from r/nyc\n",
      "Fetched 25000 comments from r/nyc\n",
      "Fetched 26000 comments from r/nyc\n",
      "Fetched 27000 comments from r/nyc\n",
      "Fetched 28000 comments from r/nyc\n",
      "Fetched 29000 comments from r/nyc\n",
      "Fetched 30000 comments from r/nyc\n",
      "Fetched 31000 comments from r/nyc\n",
      "Fetched 32000 comments from r/nyc\n",
      "Fetched 33000 comments from r/nyc\n",
      "Fetched 34000 comments from r/nyc\n",
      "Fetched 35000 comments from r/nyc\n",
      "Fetched 36000 comments from r/nyc\n",
      "Fetched 37000 comments from r/nyc\n",
      "Fetched 38000 comments from r/nyc\n",
      "Fetched 39000 comments from r/nyc\n",
      "Fetched 40000 comments from r/nyc\n",
      "Fetched 41000 comments from r/nyc\n",
      "Fetched 42000 comments from r/nyc\n",
      "Fetched 43000 comments from r/nyc\n",
      "Fetched 44000 comments from r/nyc\n",
      "Fetched 45000 comments from r/nyc\n",
      "Fetched 46000 comments from r/nyc\n",
      "Fetched 47000 comments from r/nyc\n",
      "Fetched 48000 comments from r/nyc\n",
      "Fetched 49000 comments from r/nyc\n",
      "Fetched 50000 comments from r/nyc\n",
      "Fetched 51000 comments from r/nyc\n",
      "Fetched 52000 comments from r/nyc\n",
      "Fetched 53000 comments from r/nyc\n",
      "Fetched 54000 comments from r/nyc\n",
      "Fetched 55000 comments from r/nyc\n",
      "Fetched 56000 comments from r/nyc\n",
      "Fetched 57000 comments from r/nyc\n",
      "Fetched 58000 comments from r/nyc\n",
      "Fetched 59000 comments from r/nyc\n",
      "Fetched 60000 comments from r/nyc\n",
      "Fetched 61000 comments from r/nyc\n",
      "Fetched 62000 comments from r/nyc\n",
      "Fetched 63000 comments from r/nyc\n",
      "Fetched 64000 comments from r/nyc\n",
      "Fetched 65000 comments from r/nyc\n",
      "Fetched 66000 comments from r/nyc\n",
      "Fetched 67000 comments from r/nyc\n",
      "Fetched 68000 comments from r/nyc\n",
      "Fetched 69000 comments from r/nyc\n",
      "Fetched 70000 comments from r/nyc\n",
      "Fetched 71000 comments from r/nyc\n",
      "Fetched 72000 comments from r/nyc\n",
      "Fetched 73000 comments from r/nyc\n",
      "Fetched 74000 comments from r/nyc\n",
      "Fetched 75000 comments from r/nyc\n",
      "Fetched 76000 comments from r/nyc\n",
      "Fetched 77000 comments from r/nyc\n",
      "Fetched 78000 comments from r/nyc\n",
      "Fetched 79000 comments from r/nyc\n",
      "Fetched 80000 comments from r/nyc\n",
      "Fetched 81000 comments from r/nyc\n",
      "Fetched 82000 comments from r/nyc\n",
      "Fetched 83000 comments from r/nyc\n",
      "Fetched 84000 comments from r/nyc\n",
      "Fetched 85000 comments from r/nyc\n",
      "Fetched 86000 comments from r/nyc\n",
      "Fetched 87000 comments from r/nyc\n",
      "Fetched 88000 comments from r/nyc\n",
      "Fetched 89000 comments from r/nyc\n",
      "Fetched 90000 comments from r/nyc\n",
      "Fetched 91000 comments from r/nyc\n",
      "Fetched 92000 comments from r/nyc\n",
      "Fetched 93000 comments from r/nyc\n",
      "Fetched 94000 comments from r/nyc\n",
      "Fetched 95000 comments from r/nyc\n",
      "Fetched 96000 comments from r/nyc\n",
      "Fetched 97000 comments from r/nyc\n",
      "Fetched 98000 comments from r/nyc\n",
      "Fetched 99000 comments from r/nyc\n",
      "Fetched 100000 comments from r/nyc\n",
      "Fetched 101000 comments from r/nyc\n",
      "Fetched 102000 comments from r/nyc\n",
      "Fetched 102885 comments from r/nyc\n",
      "Fetched 1000 comments from r/houston\n",
      "Fetched 2000 comments from r/houston\n",
      "Fetched 3000 comments from r/houston\n",
      "Fetched 4000 comments from r/houston\n",
      "Fetched 5000 comments from r/houston\n",
      "Fetched 6000 comments from r/houston\n",
      "Fetched 7000 comments from r/houston\n",
      "Fetched 8000 comments from r/houston\n",
      "Fetched 9000 comments from r/houston\n",
      "Fetched 10000 comments from r/houston\n",
      "Fetched 11000 comments from r/houston\n",
      "Fetched 12000 comments from r/houston\n",
      "Fetched 13000 comments from r/houston\n",
      "Fetched 14000 comments from r/houston\n",
      "Fetched 15000 comments from r/houston\n",
      "Fetched 16000 comments from r/houston\n",
      "Fetched 17000 comments from r/houston\n",
      "Fetched 18000 comments from r/houston\n",
      "Fetched 19000 comments from r/houston\n",
      "Fetched 20000 comments from r/houston\n",
      "Fetched 21000 comments from r/houston\n",
      "Fetched 21171 comments from r/houston\n"
     ]
    }
   ],
   "source": [
    "# get comments\n",
    "df_list = []\n",
    "\n",
    "for subreddit in subreddits:\n",
    "    start_time = t2\n",
    "    c = 0\n",
    "    while c < submissions[submissions['subreddit'] == subreddit]['num_comments'].sum():\n",
    "        time.sleep(2)\n",
    "        res = requests.get(\n",
    "            comment_url,\n",
    "            params={\n",
    "                'subreddit' : subreddit,\n",
    "                'fields': comment_fields,\n",
    "                'link_id' : (['t3_' + n for n in link_ids[subreddit]]),  #/comment?link_id : /submission?ids\n",
    "                'size' : 1000,\n",
    "                'before' : start_time,\n",
    "            })\n",
    "        # Make sure we got a 2xx response\n",
    "        res.raise_for_status()\n",
    "\n",
    "        # Don't parse data unless we got at least one post\n",
    "        if len(res.json()['data']) == 0:\n",
    "            break\n",
    "        \n",
    "        df = pd.DataFrame(res.json()['data'])\n",
    "\n",
    "        # raise counter by number of rows in df\n",
    "        c += df.shape[0]\n",
    "\n",
    "        print(f\"Fetched {c} comments from r/{subreddit}\")\n",
    "\n",
    "        df_list.append(df)\n",
    "        start_time = df['created_utc'].min()\n",
    "        \n",
    "comments = pd.concat(df_list, axis=0)\n",
    "comments['date'] = [dt.date.fromtimestamp(x).isoformat() for x in comments['created_utc']]"
   ]
  },
  {
   "cell_type": "markdown",
   "metadata": {},
   "source": [
    "## Sample/Save Data"
   ]
  },
  {
   "cell_type": "code",
   "execution_count": 39,
   "metadata": {},
   "outputs": [],
   "source": [
    "# Fewest posts we got from a subreddit\n",
    "smallest = comments['subreddit'].value_counts().min()\n",
    "\n",
    "# Pare every subreddit down to this number by random sampling\n",
    "comments_sampled = pd.concat([\n",
    "        comments[comments['subreddit'] == subreddit].sample(smallest, random_state=101)\n",
    "        for subreddit in subreddits\n",
    "    ])"
   ]
  },
  {
   "cell_type": "code",
   "execution_count": 41,
   "metadata": {},
   "outputs": [
    {
     "data": {
      "text/plain": [
       "nyc        21171\n",
       "houston    21171\n",
       "Name: subreddit, dtype: int64"
      ]
     },
     "execution_count": 41,
     "metadata": {},
     "output_type": "execute_result"
    }
   ],
   "source": [
    "# verify we now have equal classes\n",
    "comments_sampled['subreddit'].value_counts()"
   ]
  },
  {
   "cell_type": "code",
   "execution_count": 43,
   "metadata": {},
   "outputs": [],
   "source": [
    "# Save to local hard drive with prefix\n",
    "today = dt.date.today().isoformat()\n",
    "\n",
    "comments.to_csv(f'../data/{prefix}_reddit-comments_all-{today}.csv.bz2', index=False, compression='bz2')\n",
    "comments_sampled.to_csv(f'../data/{prefix}_reddit-comments_sampled-{today}.csv.bz2', index=False, compression='bz2')\n",
    "submissions.to_csv(f'../data/{prefix}_reddit-submissions-{today}.csv.bz2', index=False, compression='bz2')"
   ]
  },
  {
   "cell_type": "code",
   "execution_count": 46,
   "metadata": {},
   "outputs": [
    {
     "data": {
      "image/png": "[encoded data removed]",
      "text/plain": [
       "<matplotlib.figure.Figure at 0x7f9d1605e518>"
      ]
     },
     "metadata": {},
     "output_type": "display_data"
    }
   ],
   "source": [
    "comments[\"score\"].hist(log=True);"
   ]
  }
 ],
 "metadata": {
  "kernelspec": {
   "display_name": "Python 3",
   "language": "python",
   "name": "python3"
  },
  "language_info": {
   "codemirror_mode": {
    "name": "ipython",
    "version": 3
   },
   "file_extension": ".py",
   "mimetype": "text/x-python",
   "name": "python",
   "nbconvert_exporter": "python",
   "pygments_lexer": "ipython3",
   "version": "3.6.9"
  },
  "toc": {
   "base_numbering": 1,
   "nav_menu": {},
   "number_sections": true,
   "sideBar": true,
   "skip_h1_title": false,
   "title_cell": "Table of Contents",
   "title_sidebar": "Contents",
   "toc_cell": false,
   "toc_position": {},
   "toc_section_display": true,
   "toc_window_display": false
  },
  "varInspector": {
   "cols": {
    "lenName": 16,
    "lenType": 16,
    "lenVar": 40
   },
   "kernels_config": {
    "python": {
     "delete_cmd_postfix": "",
     "delete_cmd_prefix": "del ",
     "library": "var_list.py",
     "varRefreshCmd": "print(var_dic_list())"
    },
    "r": {
     "delete_cmd_postfix": ") ",
     "delete_cmd_prefix": "rm(",
     "library": "var_list.r",
     "varRefreshCmd": "cat(var_dic_list()) "
    }
   },
   "types_to_exclude": [
    "module",
    "function",
    "builtin_function_or_method",
    "instance",
    "_Feature"
   ],
   "window_display": false
  }
 },
 "nbformat": 4,
 "nbformat_minor": 4
}
