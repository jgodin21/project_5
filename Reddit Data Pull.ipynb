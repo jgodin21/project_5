{
 "cells": [
  {
   "cell_type": "markdown",
   "metadata": {},
   "source": [
    "# Reddit get-comment tool, covid-19 sentiment analysis"
   ]
  },
  {
   "cell_type": "markdown",
   "metadata": {},
   "source": [
    "## Set-up"
   ]
  },
  {
   "cell_type": "code",
   "execution_count": 110,
   "metadata": {},
   "outputs": [],
   "source": [
    "import pandas as pd\n",
    "import numpy as np\n",
    "import matplotlib.pyplot as plot\n",
    "import datetime as dt\n",
    "import time\n",
    "import requests\n",
    "from bs4 import BeautifulSoup \n"
   ]
  },
  {
   "cell_type": "code",
   "execution_count": 2,
   "metadata": {},
   "outputs": [],
   "source": [
    "sub_url = 'https://api.pushshift.io/reddit/search/submission?'"
   ]
  },
  {
   "cell_type": "code",
   "execution_count": 3,
   "metadata": {},
   "outputs": [],
   "source": [
    "comment_url = 'https://api.pushshift.io/reddit/search/comment?'"
   ]
  },
  {
   "cell_type": "code",
   "execution_count": 4,
   "metadata": {},
   "outputs": [],
   "source": [
    "#/comment?link_id : /submission?ids"
   ]
  },
  {
   "cell_type": "code",
   "execution_count": 5,
   "metadata": {},
   "outputs": [],
   "source": [
    "# Play with different localities here\n",
    "subreddits = ['nyc', 'houston']"
   ]
  },
  {
   "cell_type": "code",
   "execution_count": 6,
   "metadata": {},
   "outputs": [],
   "source": [
    "submission_fields = ['id','title', 'created_utc','num_comments','subreddit']"
   ]
  },
  {
   "cell_type": "code",
   "execution_count": 9,
   "metadata": {},
   "outputs": [],
   "source": [
    "comment_fields = ['link_id','body','created_utc', 'subreddit']"
   ]
  },
  {
   "cell_type": "markdown",
   "metadata": {},
   "source": [
    "## Submissions"
   ]
  },
  {
   "cell_type": "code",
   "execution_count": 180,
   "metadata": {},
   "outputs": [],
   "source": [
    "# get submissions\n",
    "submissions = pd.DataFrame(columns = submission_fields)\n",
    "df_list = []\n",
    "\n",
    "for subreddit in subreddits:\n",
    "    start_time = round(time.time())\n",
    "    res = requests.get(\n",
    "        sub_url,\n",
    "        params={\n",
    "            'subreddit' : subreddit,\n",
    "            'q' : 'covid|quarantine|pandemic|coronavirus',\n",
    "            'fields': submission_fields,\n",
    "            'size' : 400,\n",
    "            'sort_type' : 'num_comments',\n",
    "            'sort' : 'desc',\n",
    "            'before': start_time,  # We can also manually set this \n",
    "            'after': '80d',      # With this on, the unbalanced classes get moreso\n",
    "        })\n",
    "\n",
    "    df = pd.DataFrame(res.json()['data'])\n",
    "    \n",
    "    # Filter out non-commented; could also set 'sort_type' parameter to get most commented\n",
    "    df = df[df['num_comments'] >0]\n",
    "    \n",
    "    df_list.append(df)\n",
    "\n",
    "start_time = df.created_utc.min()\n",
    "submissions = pd.concat(df_list, axis=0)\n",
    "submissions['date'] = [dt.date.fromtimestamp(x).isoformat() for x in submissions['created_utc']]\n"
   ]
  },
  {
   "cell_type": "markdown",
   "metadata": {},
   "source": [
    "## Comments"
   ]
  },
  {
   "cell_type": "code",
   "execution_count": 98,
   "metadata": {
    "scrolled": true
   },
   "outputs": [],
   "source": [
    "link_ids = {sub: submissions[submissions[\"subreddit\"] == sub][\"id\"] for sub in subreddits}"
   ]
  },
  {
   "cell_type": "code",
   "execution_count": 188,
   "metadata": {
    "scrolled": true
   },
   "outputs": [
    {
     "name": "stdout",
     "output_type": "stream",
     "text": [
      "<Response [200]>\n",
      "1000\n",
      "<Response [200]>\n",
      "2000\n",
      "<Response [200]>\n",
      "3000\n",
      "<Response [200]>\n",
      "4000\n",
      "<Response [200]>\n",
      "5000\n",
      "<Response [200]>\n",
      "6000\n",
      "<Response [200]>\n",
      "7000\n",
      "<Response [200]>\n",
      "8000\n",
      "<Response [200]>\n",
      "9000\n",
      "<Response [200]>\n",
      "10000\n",
      "<Response [200]>\n",
      "11000\n",
      "<Response [200]>\n",
      "12000\n",
      "<Response [200]>\n",
      "13000\n",
      "<Response [200]>\n",
      "14000\n",
      "<Response [200]>\n",
      "15000\n",
      "<Response [200]>\n",
      "16000\n",
      "<Response [200]>\n",
      "17000\n",
      "<Response [200]>\n",
      "18000\n",
      "<Response [200]>\n",
      "19000\n",
      "<Response [200]>\n",
      "20000\n",
      "<Response [200]>\n",
      "21000\n",
      "<Response [200]>\n",
      "22000\n",
      "<Response [200]>\n",
      "23000\n",
      "<Response [200]>\n",
      "24000\n",
      "<Response [200]>\n",
      "25000\n",
      "<Response [200]>\n",
      "26000\n",
      "<Response [200]>\n",
      "27000\n",
      "<Response [200]>\n",
      "28000\n",
      "<Response [200]>\n",
      "29000\n",
      "<Response [200]>\n",
      "30000\n",
      "<Response [200]>\n",
      "31000\n",
      "<Response [200]>\n",
      "32000\n",
      "<Response [200]>\n",
      "33000\n",
      "<Response [200]>\n",
      "34000\n",
      "<Response [200]>\n",
      "35000\n",
      "<Response [200]>\n",
      "36000\n",
      "<Response [200]>\n",
      "37000\n",
      "<Response [200]>\n",
      "38000\n",
      "<Response [200]>\n",
      "39000\n",
      "<Response [200]>\n",
      "40000\n",
      "<Response [200]>\n",
      "41000\n",
      "<Response [200]>\n",
      "42000\n",
      "<Response [200]>\n",
      "43000\n",
      "<Response [200]>\n",
      "44000\n",
      "<Response [200]>\n",
      "45000\n",
      "<Response [200]>\n",
      "46000\n",
      "<Response [200]>\n",
      "47000\n",
      "<Response [200]>\n",
      "48000\n",
      "<Response [200]>\n",
      "49000\n",
      "<Response [200]>\n",
      "50000\n",
      "<Response [200]>\n",
      "51000\n",
      "<Response [200]>\n",
      "52000\n",
      "<Response [200]>\n",
      "53000\n",
      "<Response [200]>\n",
      "54000\n",
      "<Response [200]>\n",
      "55000\n",
      "<Response [200]>\n",
      "56000\n",
      "<Response [200]>\n",
      "57000\n",
      "<Response [200]>\n",
      "58000\n",
      "<Response [200]>\n",
      "59000\n",
      "<Response [200]>\n",
      "60000\n",
      "<Response [200]>\n",
      "61000\n",
      "<Response [200]>\n",
      "62000\n",
      "<Response [200]>\n",
      "63000\n",
      "<Response [200]>\n",
      "64000\n",
      "<Response [200]>\n",
      "65000\n",
      "<Response [200]>\n",
      "66000\n",
      "<Response [200]>\n",
      "67000\n",
      "<Response [200]>\n",
      "68000\n",
      "<Response [200]>\n",
      "69000\n",
      "<Response [200]>\n",
      "70000\n",
      "<Response [200]>\n",
      "70271\n",
      "<Response [200]>\n",
      "<Response [200]>\n",
      "1000\n",
      "<Response [200]>\n",
      "2000\n",
      "<Response [200]>\n",
      "3000\n",
      "<Response [200]>\n",
      "4000\n",
      "<Response [200]>\n",
      "5000\n",
      "<Response [200]>\n",
      "6000\n",
      "<Response [200]>\n",
      "7000\n",
      "<Response [200]>\n",
      "8000\n",
      "<Response [200]>\n",
      "9000\n",
      "<Response [200]>\n",
      "10000\n",
      "<Response [200]>\n",
      "11000\n",
      "<Response [200]>\n",
      "12000\n",
      "<Response [200]>\n",
      "13000\n",
      "<Response [200]>\n",
      "14000\n",
      "<Response [200]>\n",
      "14136\n",
      "<Response [200]>\n"
     ]
    }
   ],
   "source": [
    "# get comments\n",
    "comments = pd.DataFrame(columns = comment_fields)\n",
    "df_list = []\n",
    "\n",
    "for subreddit in subreddits:\n",
    "    start_time = round(time.time())\n",
    "    c = 0\n",
    "    while c < submissions[submissions['subreddit'] == subreddit]['num_comments'].sum():\n",
    "        res = requests.get(\n",
    "            comment_url,\n",
    "            params={\n",
    "                'subreddit' : subreddit,\n",
    "                'fields': comment_fields,\n",
    "                'link_id' : (['t3_' + n for n in link_ids[subreddit]]),\n",
    "                'size' : 1000,\n",
    "                'before' : start_time,\n",
    "            })\n",
    "        print(res)\n",
    "        if len(res.json()['data']) == 0:\n",
    "            break\n",
    "        df = pd.DataFrame(res.json()['data'])\n",
    "\n",
    "#         print(res.json()['data'])\n",
    "        # raise counter by number of rows in df\n",
    "        c += df.shape[0]\n",
    "        print(c)\n",
    "        \n",
    "        df_list.append(df)\n",
    "#         display(df.columns)\n",
    "#         display(df.head())\n",
    "#         display(df['created_utc'].min())\n",
    "        start_time = df['created_utc'].min()\n",
    "        \n",
    "comments = pd.concat(df_list, axis=0)\n",
    "comments['date'] = [dt.date.fromtimestamp(x).isoformat() for x in comments['created_utc']]"
   ]
  },
  {
   "cell_type": "code",
   "execution_count": 190,
   "metadata": {},
   "outputs": [],
   "source": []
  },
  {
   "cell_type": "code",
   "execution_count": 195,
   "metadata": {},
   "outputs": [
    {
     "data": {
      "text/plain": [
       "14136"
      ]
     },
     "execution_count": 195,
     "metadata": {},
     "output_type": "execute_result"
    }
   ],
   "source": [
    "comments['subreddit'].value_counts().min()"
   ]
  },
  {
   "cell_type": "code",
   "execution_count": 197,
   "metadata": {},
   "outputs": [],
   "source": [
    "data = pd.concat([comments[comments['subreddit'] == subreddit].sample(comments['subreddit'].value_counts().min(),\n",
    "                                               random_state = 101) for subreddit in subreddits])"
   ]
  },
  {
   "cell_type": "code",
   "execution_count": 200,
   "metadata": {},
   "outputs": [
    {
     "data": {
      "text/plain": [
       "houston    14136\n",
       "nyc        14136\n",
       "Name: subreddit, dtype: int64"
      ]
     },
     "execution_count": 200,
     "metadata": {},
     "output_type": "execute_result"
    }
   ],
   "source": [
    "data['subreddit'].value_counts()"
   ]
  },
  {
   "cell_type": "code",
   "execution_count": 204,
   "metadata": {},
   "outputs": [],
   "source": [
    "data.to_csv('./data/sampled_comments.csv')"
   ]
  },
  {
   "cell_type": "code",
   "execution_count": 205,
   "metadata": {},
   "outputs": [],
   "source": [
    "comments.to_csv('./data/all_comments.csv')"
   ]
  },
  {
   "cell_type": "code",
   "execution_count": 206,
   "metadata": {},
   "outputs": [],
   "source": [
    "submissions.to_csv('./data/submissions.csv')"
   ]
  },
  {
   "cell_type": "code",
   "execution_count": null,
   "metadata": {},
   "outputs": [],
   "source": []
  }
 ],
 "metadata": {
  "kernelspec": {
   "display_name": "Python 3",
   "language": "python",
   "name": "python3"
  },
  "language_info": {
   "codemirror_mode": {
    "name": "ipython",
    "version": 3
   },
   "file_extension": ".py",
   "mimetype": "text/x-python",
   "name": "python",
   "nbconvert_exporter": "python",
   "pygments_lexer": "ipython3",
   "version": "3.7.6"
  },
  "toc": {
   "base_numbering": 1,
   "nav_menu": {},
   "number_sections": true,
   "sideBar": true,
   "skip_h1_title": false,
   "title_cell": "Table of Contents",
   "title_sidebar": "Contents",
   "toc_cell": false,
   "toc_position": {},
   "toc_section_display": true,
   "toc_window_display": false
  }
 },
 "nbformat": 4,
 "nbformat_minor": 4
}
