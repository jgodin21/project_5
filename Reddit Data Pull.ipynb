{
 "cells": [
  {
   "cell_type": "markdown",
   "metadata": {},
   "source": [
    "# Reddit t"
   ]
  },
  {
   "cell_type": "markdown",
   "metadata": {},
   "source": [
    "## Set-up"
   ]
  },
  {
   "cell_type": "code",
   "execution_count": 1,
   "metadata": {},
   "outputs": [],
   "source": [
    "import pandas as pd\n",
    "import numpy as np\n",
    "import matplotlib.pyplot as plot\n",
    "\n",
    "import time\n",
    "import requests\n",
    "from bs4 import BeautifulSoup \n"
   ]
  },
  {
   "cell_type": "code",
   "execution_count": 4,
   "metadata": {},
   "outputs": [],
   "source": [
    "sub_url = 'https://api.pushshift.io/reddit/search/submission?'"
   ]
  },
  {
   "cell_type": "code",
   "execution_count": 5,
   "metadata": {},
   "outputs": [],
   "source": [
    "comment_url = 'https://api.pushshift.io/reddit/search/comment?'"
   ]
  },
  {
   "cell_type": "code",
   "execution_count": null,
   "metadata": {},
   "outputs": [],
   "source": [
    "#/comment?link_id : /submission?ids"
   ]
  },
  {
   "cell_type": "code",
   "execution_count": 52,
   "metadata": {},
   "outputs": [],
   "source": [
    "# Play with different localities here\n",
    "subreddits = ['nyc', 'houston']"
   ]
  },
  {
   "cell_type": "markdown",
   "metadata": {},
   "source": [
    "## Submissions"
   ]
  },
  {
   "cell_type": "code",
   "execution_count": 72,
   "metadata": {},
   "outputs": [],
   "source": [
    "# get submissions\n",
    "submissions = pd.DataFrame(columns = ['id','title', 'created_utc','num_comments','subreddit'])\n",
    "df_list = []\n",
    "\n",
    "for subreddit in subreddits:\n",
    "    start_time = round(time.time())\n",
    "    res = requests.get(\n",
    "        sub_url,\n",
    "        params={\n",
    "            'subreddit' : subreddit,\n",
    "            'q' : 'covid-19',\n",
    "            'fields': ('id','title', 'created_utc', 'num_comments','subreddit'),\n",
    "            'size' : 1000,\n",
    "            'before': start_time,  # We can also manually set this \n",
    "#             'after': '30d',      # With this on, the unbalanced classes get moreso\n",
    "        })\n",
    "\n",
    "    df = pd.DataFrame(res.json()['data'])\n",
    "    \n",
    "    # Filter out non-commented; could also set 'sort_type' parameter to get most commented\n",
    "    df = df[df['num_comments'] >0]\n",
    "    \n",
    "    df_list.append(df)\n",
    "\n",
    "current_time = df.created_utc.min()\n",
    "submissions = pd.concat(df_list, axis=0)\n",
    "\n"
   ]
  },
  {
   "cell_type": "markdown",
   "metadata": {},
   "source": [
    "## Comments"
   ]
  },
  {
   "cell_type": "code",
   "execution_count": 71,
   "metadata": {
    "scrolled": true
   },
   "outputs": [],
   "source": [
    "link_ids = list(submissions['id'])"
   ]
  },
  {
   "cell_type": "code",
   "execution_count": 80,
   "metadata": {},
   "outputs": [
    {
     "name": "stdout",
     "output_type": "stream",
     "text": [
      "1000\n",
      "2000\n",
      "3000\n",
      "4000\n",
      "5000\n",
      "483\n",
      "966\n",
      "1449\n",
      "1932\n",
      "2415\n",
      "2898\n",
      "3381\n",
      "3864\n",
      "4347\n",
      "4830\n",
      "5313\n"
     ]
    }
   ],
   "source": [
    "# get comments\n",
    "comments = pd.DataFrame(columns = ['link_id','body','created_utc', 'subreddit'])\n",
    "df_list = []\n",
    "start_time = round(time.time())\n",
    "\n",
    "for subreddit in subreddits:\n",
    "    c = 0\n",
    "    while c < 5000:\n",
    "        res = requests.get(\n",
    "            comment_url,\n",
    "            params={\n",
    "                'subreddit' : subreddit,\n",
    "                'fields': ('link_id','body','created_utc', 'subreddit'),\n",
    "                'link_id' : link_ids,\n",
    "                'size' : 1000,\n",
    "                'before' : start_time,\n",
    "            })\n",
    "\n",
    "        df = pd.DataFrame(res.json()['data'])\n",
    "        \n",
    "        # raise counter by number of rows in df\n",
    "        c += df.shape[0]\n",
    "        print(c)\n",
    "        \n",
    "        df_list.append(df)\n",
    "        \n",
    "        current_time = df.created_utc.min()\n",
    "        \n",
    "comments = pd.concat(df_list, axis=0)"
   ]
  },
  {
   "cell_type": "code",
   "execution_count": 81,
   "metadata": {},
   "outputs": [
    {
     "data": {
      "text/html": [
       "<div>\n",
       "<style scoped>\n",
       "    .dataframe tbody tr th:only-of-type {\n",
       "        vertical-align: middle;\n",
       "    }\n",
       "\n",
       "    .dataframe tbody tr th {\n",
       "        vertical-align: top;\n",
       "    }\n",
       "\n",
       "    .dataframe thead th {\n",
       "        text-align: right;\n",
       "    }\n",
       "</style>\n",
       "<table border=\"1\" class=\"dataframe\">\n",
       "  <thead>\n",
       "    <tr style=\"text-align: right;\">\n",
       "      <th></th>\n",
       "      <th>body</th>\n",
       "      <th>created_utc</th>\n",
       "      <th>link_id</th>\n",
       "      <th>subreddit</th>\n",
       "    </tr>\n",
       "  </thead>\n",
       "  <tbody>\n",
       "    <tr>\n",
       "      <th>0</th>\n",
       "      <td>It seems delaying evictions and rent freezes a...</td>\n",
       "      <td>1588884954</td>\n",
       "      <td>t3_gewzt5</td>\n",
       "      <td>nyc</td>\n",
       "    </tr>\n",
       "    <tr>\n",
       "      <th>1</th>\n",
       "      <td>So introduce yourself?</td>\n",
       "      <td>1588884845</td>\n",
       "      <td>t3_gezjco</td>\n",
       "      <td>nyc</td>\n",
       "    </tr>\n",
       "    <tr>\n",
       "      <th>2</th>\n",
       "      <td>Damn</td>\n",
       "      <td>1588884519</td>\n",
       "      <td>t3_gezjco</td>\n",
       "      <td>nyc</td>\n",
       "    </tr>\n",
       "    <tr>\n",
       "      <th>3</th>\n",
       "      <td>NYC is obviously at elevated risk for sufferin...</td>\n",
       "      <td>1588884503</td>\n",
       "      <td>t3_gezjco</td>\n",
       "      <td>nyc</td>\n",
       "    </tr>\n",
       "    <tr>\n",
       "      <th>4</th>\n",
       "      <td>exactly what a meowstoria would say</td>\n",
       "      <td>1588884453</td>\n",
       "      <td>t3_gezjco</td>\n",
       "      <td>nyc</td>\n",
       "    </tr>\n",
       "  </tbody>\n",
       "</table>\n",
       "</div>"
      ],
      "text/plain": [
       "                                                body  created_utc    link_id  \\\n",
       "0  It seems delaying evictions and rent freezes a...   1588884954  t3_gewzt5   \n",
       "1                             So introduce yourself?   1588884845  t3_gezjco   \n",
       "2                                               Damn   1588884519  t3_gezjco   \n",
       "3  NYC is obviously at elevated risk for sufferin...   1588884503  t3_gezjco   \n",
       "4                exactly what a meowstoria would say   1588884453  t3_gezjco   \n",
       "\n",
       "  subreddit  \n",
       "0       nyc  \n",
       "1       nyc  \n",
       "2       nyc  \n",
       "3       nyc  \n",
       "4       nyc  "
      ]
     },
     "execution_count": 81,
     "metadata": {},
     "output_type": "execute_result"
    }
   ],
   "source": [
    "comments.head()\n"
   ]
  },
  {
   "cell_type": "code",
   "execution_count": 82,
   "metadata": {},
   "outputs": [
    {
     "data": {
      "text/plain": [
       "houston    5313\n",
       "nyc        5000\n",
       "Name: subreddit, dtype: int64"
      ]
     },
     "execution_count": 82,
     "metadata": {},
     "output_type": "execute_result"
    }
   ],
   "source": [
    "comments.subreddit.value_counts()"
   ]
  }
 ],
 "metadata": {
  "kernelspec": {
   "display_name": "Python 3",
   "language": "python",
   "name": "python3"
  },
  "language_info": {
   "codemirror_mode": {
    "name": "ipython",
    "version": 3
   },
   "file_extension": ".py",
   "mimetype": "text/x-python",
   "name": "python",
   "nbconvert_exporter": "python",
   "pygments_lexer": "ipython3",
   "version": "3.7.6"
  },
  "toc": {
   "base_numbering": 1,
   "nav_menu": {},
   "number_sections": true,
   "sideBar": true,
   "skip_h1_title": false,
   "title_cell": "Table of Contents",
   "title_sidebar": "Contents",
   "toc_cell": false,
   "toc_position": {},
   "toc_section_display": true,
   "toc_window_display": false
  }
 },
 "nbformat": 4,
 "nbformat_minor": 4
}
